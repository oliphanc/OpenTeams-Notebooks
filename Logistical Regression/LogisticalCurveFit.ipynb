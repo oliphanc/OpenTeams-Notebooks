{
 "cells": [
  {
   "cell_type": "markdown",
   "id": "fb205d03-c50d-45fc-8b64-69b175f0ffa5",
   "metadata": {},
   "source": [
    "### Predicting The Surface Tension of Water Using a Logistigal Curve Fit\n",
    "\n",
    "The surface tension of water can be reduced by the addition of a surfactant. \n",
    "\n",
    "A simple experiment was conducted to determine how the surface tension varies as surfactant (soap) is added to a well-mixed solution. The experimental data will be proccessed using Numpy and Pandas, and plots will be made using Matplotlib.\n"
   ]
  },
  {
   "cell_type": "code",
   "execution_count": 10,
   "id": "c4217eff-9823-4f67-b9f3-09563404abbc",
   "metadata": {},
   "outputs": [],
   "source": [
    "import numpy as np\n",
    "import pandas as pd\n",
    "import matplotlib.pyplot as plt"
   ]
  },
  {
   "cell_type": "markdown",
   "id": "29db6196-8f2a-455a-a1a7-de9e1089e795",
   "metadata": {},
   "source": [
    "The experiment was conducted by measuring a fixed mass of water and slowly adding soap until the solution was at the desired concentration. A capillary was positioned on the surface of the solution and the solution was allowed to rise into the capillary. The equilibrium position was then measured and recorded. \n",
    "\n",
    "The data were used to determine the surface tension ($\\sigma$) based on the following equation:\n",
    "$$\n",
    "\\begin{align}\n",
    "\\sigma = \\frac{{\\rho}{g}}{4}Dh\n",
    "\\end{align}\n",
    "$$\n",
    "\n",
    "Where $D$ is the capillary diameter, $h$ is the equilibrium distance, $\\rho$ is the density of the water, and $g$ is the acceleration due to gravity."
   ]
  },
  {
   "cell_type": "code",
   "execution_count": 59,
   "id": "32ef9086-3549-4127-8af4-75748386c3b9",
   "metadata": {},
   "outputs": [
    {
     "data": {
      "text/html": [
       "<div>\n",
       "<style scoped>\n",
       "    .dataframe tbody tr th:only-of-type {\n",
       "        vertical-align: middle;\n",
       "    }\n",
       "\n",
       "    .dataframe tbody tr th {\n",
       "        vertical-align: top;\n",
       "    }\n",
       "\n",
       "    .dataframe thead th {\n",
       "        text-align: right;\n",
       "    }\n",
       "</style>\n",
       "<table border=\"1\" class=\"dataframe\">\n",
       "  <thead>\n",
       "    <tr style=\"text-align: right;\">\n",
       "      <th></th>\n",
       "      <th>%Concentration</th>\n",
       "      <th>Surface Tension ($\\sigma$)</th>\n",
       "    </tr>\n",
       "  </thead>\n",
       "  <tbody>\n",
       "    <tr>\n",
       "      <th>0</th>\n",
       "      <td>0.0000</td>\n",
       "      <td>0.068975</td>\n",
       "    </tr>\n",
       "    <tr>\n",
       "      <th>7</th>\n",
       "      <td>0.0331</td>\n",
       "      <td>0.045045</td>\n",
       "    </tr>\n",
       "    <tr>\n",
       "      <th>6</th>\n",
       "      <td>0.0342</td>\n",
       "      <td>0.042229</td>\n",
       "    </tr>\n",
       "    <tr>\n",
       "      <th>1</th>\n",
       "      <td>0.0346</td>\n",
       "      <td>0.039414</td>\n",
       "    </tr>\n",
       "    <tr>\n",
       "      <th>5</th>\n",
       "      <td>0.0353</td>\n",
       "      <td>0.036599</td>\n",
       "    </tr>\n",
       "    <tr>\n",
       "      <th>2</th>\n",
       "      <td>0.0864</td>\n",
       "      <td>0.030968</td>\n",
       "    </tr>\n",
       "    <tr>\n",
       "      <th>3</th>\n",
       "      <td>0.1380</td>\n",
       "      <td>0.030968</td>\n",
       "    </tr>\n",
       "    <tr>\n",
       "      <th>4</th>\n",
       "      <td>0.1736</td>\n",
       "      <td>0.030968</td>\n",
       "    </tr>\n",
       "  </tbody>\n",
       "</table>\n",
       "</div>"
      ],
      "text/plain": [
       "   %Concentration  Surface Tension ($\\sigma$)\n",
       "0          0.0000                    0.068975\n",
       "7          0.0331                    0.045045\n",
       "6          0.0342                    0.042229\n",
       "1          0.0346                    0.039414\n",
       "5          0.0353                    0.036599\n",
       "2          0.0864                    0.030968\n",
       "3          0.1380                    0.030968\n",
       "4          0.1736                    0.030968"
      ]
     },
     "execution_count": 59,
     "metadata": {},
     "output_type": "execute_result"
    }
   ],
   "source": [
    "D = 1.15e-3 #m\n",
    "ρ = 998.2 #kg/m^3\n",
    "g = 9.81 #m/s^2\n",
    "\n",
    "C = np.array([0,.0346,.0864,.138,.1736,.0353,.0342,.0331])\n",
    "h = np.array([24.5, 14, 11, 11, 11, 13, 15, 16])/1000 #m\n",
    "σ = ρ*g*D*h/4\n",
    "df = pd.DataFrame([C,σ]).T\n",
    "df = df.sort_values(by=[0])\n",
    "df.columns = [r'%Concentration', 'Surface Tension ($\\sigma$)']\n",
    "\n",
    "x = df[r'%Concentration']\n",
    "y = df['Surface Tension ($\\sigma$)']\n",
    "df"
   ]
  },
  {
   "cell_type": "code",
   "execution_count": 105,
   "id": "174fbbbc-d94e-41f0-9eb4-731a7631de9d",
   "metadata": {},
   "outputs": [
    {
     "data": {
      "image/png": "[encoded data removed]",
      "text/plain": [
       "<Figure size 432x288 with 1 Axes>"
      ]
     },
     "metadata": {
      "needs_background": "light"
     },
     "output_type": "display_data"
    }
   ],
   "source": [
    "fig = plt.plot()\n",
    "plt.plot(x, y, 'o')\n",
    "plt.xlabel(r'%C')\n",
    "plt.ylabel(r'$\\sigma$')\n",
    "plt.show()"
   ]
  },
  {
   "cell_type": "markdown",
   "id": "0c4bad65-56eb-4302-8aff-ee1a6db89935",
   "metadata": {},
   "source": [
    "Two approaches were used to fit a curve to the data. The first approach was a polynomial fit using the polyfit function in numpy. This approach provides useful predictions of surface tension for values above 0.04 %C, but does not provide useful information for consentrations lower than this.\n",
    "\n",
    "A plot showing the fit for a 3rd, 4th, and 5th order polynomial fit are shown below."
   ]
  },
  {
   "cell_type": "code",
   "execution_count": 106,
   "id": "da73d02f-5ed1-449e-a313-6a1f83e9efab",
   "metadata": {},
   "outputs": [
    {
     "data": {
      "image/png": "[encoded data removed]",
      "text/plain": [
       "<Figure size 432x288 with 1 Axes>"
      ]
     },
     "metadata": {
      "needs_background": "light"
     },
     "output_type": "display_data"
    }
   ],
   "source": [
    "plt.plot(x, y, 'o', label = 'Data')\n",
    "x_fit = np.arange(0, .1, .0001)\n",
    "\n",
    "for n in range(3,6):\n",
    "    z = np.polyfit(y, x, n)\n",
    "    p = np.poly1d(z)\n",
    "    plt.plot(p(x_fit), x_fit,'--', label = f'Polynomial, n={n}')\n",
    "\n",
    "plt.xlim(0, 0.1)\n",
    "plt.ylim(0.02, 0.075)\n",
    "plt.legend()\n",
    "plt.xlabel(r'%C')\n",
    "plt.ylabel(r'$\\sigma$')\n",
    "plt.show()"
   ]
  },
  {
   "cell_type": "markdown",
   "id": "af0a07af-480f-467b-a5db-7b4dce077637",
   "metadata": {
    "tags": []
   },
   "source": [
    "A second approach used was to fit the data to a custom function. This was done using the curve_fit function from scipy.optimize. The logistic function was chosen to represent the data.\n",
    "$$\n",
    "\\begin{align}\n",
    "\\sigma(\\%C) = \\frac{L}{1+ae^{-k\\%C}} + \\sigma_0\n",
    "\\end{align}\n",
    "$$\n"
   ]
  },
  {
   "cell_type": "code",
   "execution_count": 61,
   "id": "c906d5a5-242e-4e79-ab66-330af1979bb7",
   "metadata": {},
   "outputs": [],
   "source": [
    "from scipy.optimize import curve_fit"
   ]
  },
  {
   "cell_type": "code",
   "execution_count": 96,
   "id": "466514fc-d0ce-410c-96ea-a5a1ab87a87a",
   "metadata": {},
   "outputs": [],
   "source": [
    "def logifunc(x,l,a,k, off):\n",
    "    return l / (1 + a*np.exp(-k*x)) + off"
   ]
  },
  {
   "cell_type": "code",
   "execution_count": 97,
   "id": "12fd9f5e-4be0-4350-a51f-cd8b54398d23",
   "metadata": {},
   "outputs": [],
   "source": [
    "popt, pcov = curve_fit(logifunc, x, y, p0=[.04,8,.1, .011])"
   ]
  },
  {
   "cell_type": "code",
   "execution_count": 103,
   "id": "25bca336-653c-4661-aa08-712212db27c1",
   "metadata": {},
   "outputs": [
    {
     "data": {
      "image/png": "[encoded data removed]",
      "text/plain": [
       "<Figure size 432x288 with 1 Axes>"
      ]
     },
     "metadata": {
      "needs_background": "light"
     },
     "output_type": "display_data"
    }
   ],
   "source": [
    "plt.plot(x, y, 'o', label = 'Data')\n",
    "plt.plot(x_fit, logifunc(x_fit, *popt), label='Logistic')\n",
    "\n",
    "plt.xlim(0, 0.1)\n",
    "plt.ylim(0.02, 0.075)\n",
    "plt.legend()\n",
    "plt.xlabel(r'%C')\n",
    "plt.ylabel(r'$\\sigma$')\n",
    "plt.show()"
   ]
  },
  {
   "cell_type": "markdown",
   "id": "9734ebc1-8cb2-4009-b405-c8eba5b8e8f2",
   "metadata": {},
   "source": [
    "As shown in figure 2, the logistic function matches the data very well. The logistic function should be used to draw estimates on how surface tension varies with the concentration of surfactant."
   ]
  }
 ],
 "metadata": {
  "kernelspec": {
   "display_name": "Python 3 (ipykernel)",
   "language": "python",
   "name": "python3"
  },
  "language_info": {
   "codemirror_mode": {
    "name": "ipython",
    "version": 3
   },
   "file_extension": ".py",
   "mimetype": "text/x-python",
   "name": "python",
   "nbconvert_exporter": "python",
   "pygments_lexer": "ipython3",
   "version": "3.8.8"
  }
 },
 "nbformat": 4,
 "nbformat_minor": 5
}
